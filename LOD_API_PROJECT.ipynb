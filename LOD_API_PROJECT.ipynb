{
 "cells": [
  {
   "cell_type": "code",
   "execution_count": 2,
   "id": "38b99d55-fd53-47c8-8aaf-357183dc26f5",
   "metadata": {},
   "outputs": [],
   "source": [
    "import requests"
   ]
  },
  {
   "cell_type": "code",
   "execution_count": 42,
   "id": "0394f368-a640-403b-87ce-086ae5036e70",
   "metadata": {},
   "outputs": [],
   "source": [
    "# access my api keys from .env\n",
    "import os\n",
    "from dotenv import load_dotenv\n",
    "\n",
    "load_dotenv()\n",
    "\n",
    "BASE_URL = 'https://newsapi.org/v2/everything'\n",
    "\n",
    "open_ai_api_key = os.getenv('OPEN_AI_API_KEY')\n",
    "news_api_key = os.getenv('NEWS_API_KEY')"
   ]
  },
  {
   "cell_type": "code",
   "execution_count": 44,
   "id": "128134ea-f24e-4e72-a73c-309d0868558d",
   "metadata": {},
   "outputs": [],
   "source": [
    "def fetch_news(topic):\n",
    "    params = {\n",
    "        'q': topic,            \n",
    "        'apiKey': API_KEY,     \n",
    "        'pageSize': 5          \n",
    "    }\n",
    "    response = requests.get(BASE_URL, params=params)\n",
    "    if response.status_code == 200:\n",
    "        return response.json()['articles']\n",
    "    else:\n",
    "        print(\"Failed to fetch data:\", response.status_code)\n",
    "        return []"
   ]
  },
  {
   "cell_type": "code",
   "execution_count": 46,
   "id": "a2fb38d5-0c6f-4bf1-9cbe-c48aaa4dccc3",
   "metadata": {},
   "outputs": [
    {
     "name": "stdout",
     "output_type": "stream",
     "text": [
      "Title: How Researchers Are Using Geospatial Technology to Uncover Mexico's Clandestine Graves\n",
      "Description: Thousands of hidden graves contain the bodies of the disappeared all across Mexico. Using drones, hyperspectral imaging, and other technologies, scientists and members of the public are uncovering them.\n",
      "Content: In 2014, after the disappearance of 43 Ayotzinapa normalistas in Mexico, Silván and other CentroGeo professionals joined the scientific advisory board on the case. During the search for the students,… [+2586 chars]\n",
      "\n",
      "Title: Sonos announces ‘breakthrough’ Arc Ultra soundbar and Sub 4\n",
      "Description: The new $999 Sonos Arc Ultra offers even more immersive and more powerful audio than the original Arc thanks to the inclusion of the company’s Sound Motion technology.\n",
      "Content: Sonos announces breakthrough Arc Ultra soundbar and Sub 4\n",
      "Sonos announces breakthrough Arc Ultra soundbar and Sub 4\n",
      " / The soundbar contains new Sound Motion technology that, according to Sonos, ma… [+2559 chars]\n",
      "\n",
      "Title: Back to Its Prime Day Price (59% Off), The Roborock Q7 Max+ is so Subtle That You’ll Hardly Notice it’s Working\n",
      "Description: Combining advanced technology with exceptional convenience.\n",
      "Content: The Roborock Q7 Max+ robot vacuum cleaner is currently available at an incredible price of $359 down from its original $869 – which is a staggering 59% discount that matches the Prime Day offer and s… [+2207 chars]\n",
      "\n",
      "Title: It Seemed Like an AI Crime-Fighting Super Tool. Then Defense Attorneys Started Asking Questions\n",
      "Description: Global Intelligence claims its Cybercheck technology can help cops find key evidence to nail a case. But a WIRED investigation reveals the smoking gun often appears far less solid.\n",
      "Content: In 2017, then 9-year-old Kayla Unbehaun was abducted. For years, the South Elgin, Illinois police department searched for Unbehaun and her noncustodial mother, Heather Unbehaun, who was accused of th… [+3494 chars]\n",
      "\n",
      "Title: A Lost Mayan City Has Been Found With Laser Mapping\n",
      "Description: Archaeologists have revealed an ancient lost Mayan city using advanced laser mapping technology, unearthing monumental structures such as pyramids and plazas. Named Valeriana, the city is believed to have been founded before 150 AD.\n",
      "Content: A Mayan city lost in the dense jungle of southern Mexico has been revealed. The discovery occurred in the southeastern state of Campeche, and archaeologists have named it Valeriana, after a nearby fr… [+2630 chars]\n",
      "\n"
     ]
    }
   ],
   "source": [
    "# fetch data, limit to 5 articles\n",
    "articles = fetch_news('technology')\n",
    "for article in articles:\n",
    "    print(f\"Title: {article['title']}\\nDescription: {article['description']}\\nContent: {article['content']}\\n\")\n",
    "\n"
   ]
  },
  {
   "cell_type": "code",
   "execution_count": 48,
   "id": "1ca07c0c-bbed-4f8e-8e73-aafea9417288",
   "metadata": {},
   "outputs": [],
   "source": [
    "# access my api key for open ai LLM\n",
    "import os\n",
    "from dotenv import load_dotenv\n",
    "\n",
    "load_dotenv()\n",
    "\n",
    "open_ai_api_key = os.getenv('OPEN_AI_API_KEY')\n"
   ]
  },
  {
   "cell_type": "code",
   "execution_count": 50,
   "id": "c92f1947-57ea-402c-9933-e54de9f23c38",
   "metadata": {},
   "outputs": [],
   "source": [
    "from openai import OpenAI\n",
    "\n",
    "# Initialize the OpenAI client with your API key\n",
    "client = OpenAI(\n",
    "    api_key=open_ai_api_key,\n",
    ")\n",
    "\n",
    "def summarize_article(content):\n",
    "    if not content:\n",
    "        return \"No content available to summarize.\"\n",
    "    \n",
    "    try:\n",
    "        # Use the chat.completions.create method with the client instance\n",
    "        response = client.chat.completions.create(\n",
    "            model=\"gpt-3.5-turbo\",\n",
    "            messages=[\n",
    "                {\n",
    "                    \"role\": \"user\",\n",
    "                    \"content\": f\"Summarize the following content in a concise and informative way:\\n\\n{content}\",\n",
    "                }\n",
    "            ],\n",
    "            max_tokens=100,\n",
    "            temperature=0.7,\n",
    "        )\n",
    "        \n",
    "        # Extract and return the summary\n",
    "        return response.choices[0].message.content.strip()\n",
    "    except Exception as e:\n",
    "        print(f\"An error occurred: {e}\")\n",
    "        return \"Summary could not be generated.\"\n",
    "\n",
    "\n"
   ]
  },
  {
   "cell_type": "code",
   "execution_count": 52,
   "id": "5eeb30fa-8fad-4001-a74b-ab3636742403",
   "metadata": {},
   "outputs": [
    {
     "name": "stdout",
     "output_type": "stream",
     "text": [
      "Title: How Researchers Are Using Geospatial Technology to Uncover Mexico's Clandestine Graves\n",
      "Summary: In 2014, Silván and CentroGeo professionals assisted in the investigation of the disappearance of 43 Ayotzinapa students in Mexico. They joined the scientific advisory board to help in the search for the missing students.\n",
      "\n",
      "Title: Sonos announces ‘breakthrough’ Arc Ultra soundbar and Sub 4\n",
      "Summary: Sonos introduces the Arc Ultra soundbar and Sub 4, featuring Sound Motion technology for enhanced audio quality.\n",
      "\n",
      "Title: Back to Its Prime Day Price (59% Off), The Roborock Q7 Max+ is so Subtle That You’ll Hardly Notice it’s Working\n",
      "Summary: The Roborock Q7 Max+ robot vacuum cleaner is on sale for $359, originally priced at $869, offering a 59% discount similar to the Prime Day offer.\n",
      "\n",
      "Title: It Seemed Like an AI Crime-Fighting Super Tool. Then Defense Attorneys Started Asking Questions\n",
      "Summary: In 2017, 9-year-old Kayla Unbehaun was abducted by her noncustodial mother, Heather Unbehaun, in South Elgin, Illinois. The South Elgin police department conducted a search for both individuals for several years.\n",
      "\n",
      "Title: A Lost Mayan City Has Been Found With Laser Mapping\n",
      "Summary: Archaeologists have recently uncovered a lost Mayan city called Valeriana in the dense jungle of southern Mexico, specifically in the state of Campeche. The city's existence has been confirmed and it has been named after a nearby freshwater spring.\n",
      "\n"
     ]
    }
   ],
   "source": [
    "\n",
    "for article in articles:\n",
    "    title = article.get('title', 'No title available...')\n",
    "    description = article.get('description', 'No description available...')\n",
    "    content = article.get('content', 'No content available...')  # Use empty string if content is None\n",
    "    \n",
    "    # Generate a summary of the content\n",
    "    summary = summarize_article(content)\n",
    "    \n",
    "    # Display the summarized article\n",
    "    print(f\"Title: {title}\\nSummary: {summary}\\n\")\n",
    "\n"
   ]
  },
  {
   "cell_type": "code",
   "execution_count": null,
   "id": "945acbcc-4f70-4447-b6c9-5853871c0c9b",
   "metadata": {},
   "outputs": [],
   "source": []
  }
 ],
 "metadata": {
  "kernelspec": {
   "display_name": "Python 3 (ipykernel)",
   "language": "python",
   "name": "python3"
  },
  "language_info": {
   "codemirror_mode": {
    "name": "ipython",
    "version": 3
   },
   "file_extension": ".py",
   "mimetype": "text/x-python",
   "name": "python",
   "nbconvert_exporter": "python",
   "pygments_lexer": "ipython3",
   "version": "3.12.4"
  }
 },
 "nbformat": 4,
 "nbformat_minor": 5
}
