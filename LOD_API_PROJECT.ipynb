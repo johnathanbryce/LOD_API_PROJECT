{
 "cells": [
  {
   "cell_type": "code",
   "execution_count": 2,
   "id": "b03d7c13-3f3c-4f05-895a-c37b59a0448d",
   "metadata": {},
   "outputs": [
    {
     "name": "stdout",
     "output_type": "stream",
     "text": [
      "Requirement already satisfied: requests in /opt/anaconda3/lib/python3.12/site-packages (2.32.2)\n",
      "Requirement already satisfied: charset-normalizer<4,>=2 in /opt/anaconda3/lib/python3.12/site-packages (from requests) (2.0.4)\n",
      "Requirement already satisfied: idna<4,>=2.5 in /opt/anaconda3/lib/python3.12/site-packages (from requests) (3.7)\n",
      "Requirement already satisfied: urllib3<3,>=1.21.1 in /opt/anaconda3/lib/python3.12/site-packages (from requests) (2.2.2)\n",
      "Requirement already satisfied: certifi>=2017.4.17 in /opt/anaconda3/lib/python3.12/site-packages (from requests) (2024.8.30)\n"
     ]
    }
   ],
   "source": [
    "!pip install requests"
   ]
  },
  {
   "cell_type": "code",
   "execution_count": 6,
   "id": "38b99d55-fd53-47c8-8aaf-357183dc26f5",
   "metadata": {},
   "outputs": [],
   "source": [
    "import requests"
   ]
  },
  {
   "cell_type": "code",
   "execution_count": 12,
   "id": "0394f368-a640-403b-87ce-086ae5036e70",
   "metadata": {},
   "outputs": [],
   "source": [
    "API_KEY = 'b3eb45134604439f9a86135bf1ae81c6'\n",
    "BASE_URL = 'https://newsapi.org/v2/everything'"
   ]
  },
  {
   "cell_type": "code",
   "execution_count": 28,
   "id": "128134ea-f24e-4e72-a73c-309d0868558d",
   "metadata": {},
   "outputs": [],
   "source": [
    "def fetch_news(topic):\n",
    "    params = {\n",
    "        'q': topic,            \n",
    "        'apiKey': API_KEY,     \n",
    "        'pageSize': 5          \n",
    "    }\n",
    "    response = requests.get(BASE_URL, params=params)\n",
    "    if response.status_code == 200:\n",
    "        return response.json()['articles']\n",
    "    else:\n",
    "        print(\"Failed to fetch data:\", response.status_code)\n",
    "        return []"
   ]
  },
  {
   "cell_type": "code",
   "execution_count": 34,
   "id": "a2fb38d5-0c6f-4bf1-9cbe-c48aaa4dccc3",
   "metadata": {},
   "outputs": [
    {
     "name": "stdout",
     "output_type": "stream",
     "text": [
      "Title: How Researchers Are Using Geospatial Technology to Uncover Mexico's Clandestine Graves\n",
      "Description: Thousands of hidden graves contain the bodies of the disappeared all across Mexico. Using drones, hyperspectral imaging, and other technologies, scientists and members of the public are uncovering them.\n",
      "Content: In 2014, after the disappearance of 43 Ayotzinapa normalistas in Mexico, Silván and other CentroGeo professionals joined the scientific advisory board on the case. During the search for the students,… [+2586 chars]\n",
      "\n",
      "Title: Sonos announces ‘breakthrough’ Arc Ultra soundbar and Sub 4\n",
      "Description: The new $999 Sonos Arc Ultra offers even more immersive and more powerful audio than the original Arc thanks to the inclusion of the company’s Sound Motion technology.\n",
      "Content: Sonos announces breakthrough Arc Ultra soundbar and Sub 4\n",
      "Sonos announces breakthrough Arc Ultra soundbar and Sub 4\n",
      " / The soundbar contains new Sound Motion technology that, according to Sonos, ma… [+2559 chars]\n",
      "\n",
      "Title: Back to Its Prime Day Price (59% Off), The Roborock Q7 Max+ is so Subtle That You’ll Hardly Notice it’s Working\n",
      "Description: Combining advanced technology with exceptional convenience.\n",
      "Content: The Roborock Q7 Max+ robot vacuum cleaner is currently available at an incredible price of $359 down from its original $869 – which is a staggering 59% discount that matches the Prime Day offer and s… [+2207 chars]\n",
      "\n",
      "Title: It Seemed Like an AI Crime-Fighting Super Tool. Then Defense Attorneys Started Asking Questions\n",
      "Description: Global Intelligence claims its Cybercheck technology can help cops find key evidence to nail a case. But a WIRED investigation reveals the smoking gun often appears far less solid.\n",
      "Content: In 2017, then 9-year-old Kayla Unbehaun was abducted. For years, the South Elgin, Illinois police department searched for Unbehaun and her noncustodial mother, Heather Unbehaun, who was accused of th… [+3494 chars]\n",
      "\n",
      "Title: A Lost Mayan City Has Been Found With Laser Mapping\n",
      "Description: Archaeologists have revealed an ancient lost Mayan city using advanced laser mapping technology, unearthing monumental structures such as pyramids and plazas. Named Valeriana, the city is believed to have been founded before 150 AD.\n",
      "Content: A Mayan city lost in the dense jungle of southern Mexico has been revealed. The discovery occurred in the southeastern state of Campeche, and archaeologists have named it Valeriana, after a nearby fr… [+2630 chars]\n",
      "\n"
     ]
    }
   ],
   "source": [
    "# fetch data, limit to 5 articles\n",
    "articles = fetch_news('technology')\n",
    "for article in articles:\n",
    "    print(f\"Title: {article['title']}\\nDescription: {article['description']}\\nContent: {article['content']}\\n\")\n",
    "\n"
   ]
  },
  {
   "cell_type": "code",
   "execution_count": null,
   "id": "694e6622-4cd5-4990-9f4b-87a85f696350",
   "metadata": {},
   "outputs": [],
   "source": []
  }
 ],
 "metadata": {
  "kernelspec": {
   "display_name": "Python 3 (ipykernel)",
   "language": "python",
   "name": "python3"
  },
  "language_info": {
   "codemirror_mode": {
    "name": "ipython",
    "version": 3
   },
   "file_extension": ".py",
   "mimetype": "text/x-python",
   "name": "python",
   "nbconvert_exporter": "python",
   "pygments_lexer": "ipython3",
   "version": "3.12.4"
  }
 },
 "nbformat": 4,
 "nbformat_minor": 5
}
